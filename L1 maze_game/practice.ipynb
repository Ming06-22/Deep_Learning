{
 "cells": [
  {
   "cell_type": "code",
   "execution_count": 1,
   "id": "7bf70eac-719c-44c0-99e7-a410551b0863",
   "metadata": {},
   "outputs": [
    {
     "name": "stdout",
     "output_type": "stream",
     "text": [
      "Value at position (1, 2): 6\n"
     ]
    }
   ],
   "source": [
    "import torch\n",
    "import torchvision\n",
    "\n",
    "# create a tensor\n",
    "x = torch.tensor([[1, 2, 3],\n",
    "                 [4, 5, 6],\n",
    "                 [7, 8, 9]])\n",
    "\n",
    "# access value at specific position\n",
    "value = x[1, 2]\n",
    "print(f\"Value at position (1, 2): {value.item()}\")"
   ]
  },
  {
   "cell_type": "code",
   "execution_count": 2,
   "id": "100feae1-70e1-4c6c-89e7-860e0ca99150",
   "metadata": {},
   "outputs": [
    {
     "name": "stdout",
     "output_type": "stream",
     "text": [
      "Sliced tensor: tensor([2, 5, 8])\n"
     ]
    }
   ],
   "source": [
    "# slice a tensor\n",
    "slice_tensor = x[:, 1]\n",
    "print(f\"Sliced tensor: {slice_tensor}\")"
   ]
  },
  {
   "cell_type": "code",
   "execution_count": 3,
   "id": "7f2be744-a170-4919-a63c-3a2d020ffad2",
   "metadata": {},
   "outputs": [
    {
     "name": "stdout",
     "output_type": "stream",
     "text": [
      "Tensor shape: torch.Size([3, 3])\n",
      "Reshaped tensor: tensor([[1, 2, 3, 4, 5, 6, 7, 8, 9]])\n"
     ]
    }
   ],
   "source": [
    "# get tensor shape\n",
    "shape = x.shape\n",
    "print(f\"Tensor shape: {shape}\")\n",
    "\n",
    "# reshape tensor\n",
    "reshaped_tensor = x.view(1, 9)\n",
    "print(f\"Reshaped tensor: {reshaped_tensor}\")"
   ]
  },
  {
   "cell_type": "code",
   "execution_count": 4,
   "id": "2abbe8b8-ca97-4c22-bd4b-809485caee15",
   "metadata": {},
   "outputs": [
    {
     "name": "stdout",
     "output_type": "stream",
     "text": [
      "Masked tensor:tensor([6, 7, 8, 9])\n"
     ]
    }
   ],
   "source": [
    "# masking operation\n",
    "mask = x > 5\n",
    "masked_tensor = x[mask]\n",
    "print(f\"Masked tensor:{masked_tensor}\")"
   ]
  },
  {
   "cell_type": "code",
   "execution_count": 5,
   "id": "a85f1642-9dd6-4ea6-a63d-06f2e8c0c870",
   "metadata": {},
   "outputs": [
    {
     "name": "stdout",
     "output_type": "stream",
     "text": [
      "Tensor saved successfully.\n",
      "Tensor loaded from file: tensor([[1, 2, 3],\n",
      "        [4, 5, 6],\n",
      "        [7, 8, 9]])\n"
     ]
    }
   ],
   "source": [
    "# save tensor to file\n",
    "torch.save(x, \"tensor.pt\")\n",
    "print(\"Tensor saved successfully.\")\n",
    "\n",
    "# load tensor from file\n",
    "loaded_tensor = torch.load(\"tensor.pt\")\n",
    "print(f\"Tensor loaded from file: {loaded_tensor}\")"
   ]
  }
 ],
 "metadata": {
  "kernelspec": {
   "display_name": "Python 3 (ipykernel)",
   "language": "python",
   "name": "python3"
  },
  "language_info": {
   "codemirror_mode": {
    "name": "ipython",
    "version": 3
   },
   "file_extension": ".py",
   "mimetype": "text/x-python",
   "name": "python",
   "nbconvert_exporter": "python",
   "pygments_lexer": "ipython3",
   "version": "3.9.18"
  }
 },
 "nbformat": 4,
 "nbformat_minor": 5
}
