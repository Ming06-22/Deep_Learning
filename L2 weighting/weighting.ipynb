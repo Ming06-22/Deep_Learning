{
 "cells": [
  {
   "cell_type": "markdown",
   "id": "3ef9bcc0-cbab-4140-bf0d-f06bc6c9f7b6",
   "metadata": {},
   "source": [
    "# Load data\n",
    "\n",
    "Data resource: <https://data.gov.tw/dataset/29933>"
   ]
  },
  {
   "cell_type": "code",
   "execution_count": 1,
   "id": "dda086d6-13d6-4274-b360-72cdebf0964a",
   "metadata": {},
   "outputs": [
    {
     "name": "stdout",
     "output_type": "stream",
     "text": [
      "['\\ufeff年度', '風力(萬瓩)', '太陽電(萬瓩)', '其他(含水力)(萬瓩)', '總計(萬瓩)']\n"
     ]
    }
   ],
   "source": [
    "import csv\n",
    "\n",
    "def remove_comma(n):\n",
    "    while \",\" in n:\n",
    "        n = n.replace(\",\", \"\")\n",
    "\n",
    "    return float(n)\n",
    "\n",
    "# import data\n",
    "y, x1, x2, x3 = [], [], [], []\n",
    "with open(\"data.csv\", encoding = \"utf-8\") as f:\n",
    "    reader = list(csv.reader(f))\n",
    "    print(reader[0])\n",
    "\n",
    "    for row in reader[1: ]:\n",
    "        y.append(remove_comma(row[4]))\n",
    "        x1.append(remove_comma(row[3]))\n",
    "        x2.append(remove_comma(row[2]))\n",
    "        x3.append(remove_comma(row[1]))"
   ]
  },
  {
   "cell_type": "markdown",
   "id": "25a0f8be-ee5a-43bb-a945-f6848324af02",
   "metadata": {},
   "source": [
    "# Gradient Descent"
   ]
  },
  {
   "cell_type": "markdown",
   "id": "76d38901-277a-4ad1-88ef-eb6cdb114a5e",
   "metadata": {},
   "source": [
    "## Example"
   ]
  },
  {
   "cell_type": "code",
   "execution_count": 2,
   "id": "9a8c2da3-afb7-460b-a908-e3aa161e90d9",
   "metadata": {},
   "outputs": [
    {
     "name": "stdout",
     "output_type": "stream",
     "text": [
      "Epoch 1, Loss: 104894857216.0\n",
      "Epoch 1000, Loss: 27089808.0\n",
      "Epoch 2000, Loss: 27089272.0\n",
      "Epoch 3000, Loss: 27088886.0\n",
      "Epoch 4000, Loss: 27088346.0\n",
      "Epoch 5000, Loss: 27087906.0\n",
      "Epoch 6000, Loss: 27087456.0\n",
      "Epoch 7000, Loss: 27086984.0\n",
      "Epoch 8000, Loss: 27086466.0\n",
      "Epoch 9000, Loss: 27085994.0\n",
      "Epoch 10000, Loss: 27085610.0\n",
      "weighting: w1 = 201.5657196044922, w2 = -2.722832441329956\n"
     ]
    }
   ],
   "source": [
    "import torch\n",
    "\n",
    "# training data\n",
    "sizes = torch.tensor([1500, 2000, 1200], dtype = torch.float32)\n",
    "bedrooms = torch.tensor([3, 4, 2], dtype = torch.float32)\n",
    "prices = torch.tensor([300000, 400000, 250000], dtype = torch.float32)\n",
    "\n",
    "# initialize the bias\n",
    "w1 = torch.randn(1, requires_grad = True)\n",
    "w2 = torch.randn(1, requires_grad = True)\n",
    "\n",
    "# set learning rate and number of epochs\n",
    "learning_rate = 0.0000001\n",
    "epochs = 10000\n",
    "\n",
    "# train\n",
    "for epoch in range(epochs):\n",
    "    # predict the housing price\n",
    "    predictions = w1 * sizes + w2 * bedrooms\n",
    "\n",
    "    # calculate the loss\n",
    "    loss = torch.mean((predictions - prices)**2)\n",
    "\n",
    "    # back propagation\n",
    "    loss.backward()\n",
    "\n",
    "    # update the weights\n",
    "    with torch.no_grad():\n",
    "        w1 -= learning_rate * w1.grad\n",
    "        w2 -= learning_rate * w2.grad\n",
    "\n",
    "        # return the gradients into zero\n",
    "        w1.grad.zero_()\n",
    "        w2.grad.zero_()\n",
    "\n",
    "    if epoch == 0 or epoch % 1000 == 999:\n",
    "        print(f\"Epoch {epoch + 1}, Loss: {loss.item()}\")\n",
    "\n",
    "print(f\"weighting: w1 = {w1.item()}, w2 = {w2.item()}\")"
   ]
  },
  {
   "cell_type": "markdown",
   "id": "9e9c2aa9-5764-461f-96bb-824ef350441b",
   "metadata": {},
   "source": [
    "## Practice"
   ]
  },
  {
   "cell_type": "code",
   "execution_count": 3,
   "id": "489dd64c-0fce-4bc3-8975-d77f55f6715a",
   "metadata": {},
   "outputs": [
    {
     "name": "stdout",
     "output_type": "stream",
     "text": [
      "['\\ufeff年度', '風力(萬瓩)', '太陽電(萬瓩)', '其他(含水力)(萬瓩)', '總計(萬瓩)']\n",
      "Epoch 1, Loss: 2401775.25\n",
      "Epoch 1000, Loss: 490.47406005859375\n",
      "Epoch 2000, Loss: 490.47406005859375\n",
      "Epoch 3000, Loss: 490.47406005859375\n",
      "Epoch 4000, Loss: 490.47406005859375\n",
      "Epoch 5000, Loss: 490.47406005859375\n",
      "Epoch 6000, Loss: 490.47406005859375\n",
      "Epoch 7000, Loss: 490.47406005859375\n",
      "Epoch 8000, Loss: 490.47406005859375\n",
      "Epoch 9000, Loss: 490.47406005859375\n",
      "Epoch 10000, Loss: 490.47406005859375\n",
      "weighting: w1 = 0.7809123396873474, w2 = 0.854692816734314, w3 = 2.0238184928894043, w4 = 0.752937376499176\n"
     ]
    }
   ],
   "source": [
    "import torch\n",
    "import csv\n",
    "\n",
    "def remove_comma(n):\n",
    "    while \",\" in n:\n",
    "        n = n.replace(\",\", \"\")\n",
    "\n",
    "    return float(n)\n",
    "\n",
    "# import data\n",
    "y, x1, x2, x3 = [], [], [], []\n",
    "with open(\"data.csv\", encoding = \"utf-8\") as f:\n",
    "    reader = list(csv.reader(f))\n",
    "    print(reader[0])\n",
    "\n",
    "    for row in reader[1: ]:\n",
    "        y.append(remove_comma(row[4]))\n",
    "        x1.append(remove_comma(row[3]))\n",
    "        x2.append(remove_comma(row[2]))\n",
    "        x3.append(remove_comma(row[1]))\n",
    "\n",
    "# convert data into tensor\n",
    "y = torch.tensor(y, dtype = torch.float32)\n",
    "x1 = torch.tensor(x1, dtype = torch.float32)\n",
    "x2 = torch.tensor(x2, dtype = torch.float32)\n",
    "x3 = torch.tensor(x3, dtype = torch.float32)\n",
    "\n",
    "# initialize the weights\n",
    "w1 = torch.randn(1, requires_grad = True)\n",
    "w2 = torch.randn(1, requires_grad = True)\n",
    "w3 = torch.randn(1, requires_grad = True)\n",
    "w4 = torch.randn(1, requires_grad = True)\n",
    "\n",
    "# set learning rate and number of epochs\n",
    "learning_rate = 1e-6\n",
    "epochs = 10000\n",
    "\n",
    "# train\n",
    "for epoch in range(epochs):\n",
    "    # predict the housing price\n",
    "    predictions = w1 * x1 + w2 * x2 + w3 * x3 + w4\n",
    "\n",
    "    # calculate the loss (MSE)\n",
    "    loss = torch.mean((predictions - y)**2)\n",
    "\n",
    "    # back propagation\n",
    "    loss.backward()\n",
    "\n",
    "    # update the weights\n",
    "    with torch.no_grad():\n",
    "        w1 -= learning_rate * w1.grad\n",
    "        w2 -= learning_rate * w2.grad\n",
    "        w3 -= learning_rate * w1.grad\n",
    "        w4 -= learning_rate * w1.grad\n",
    "\n",
    "        # return the gradients into zero\n",
    "        w1.grad.zero_()\n",
    "        w2.grad.zero_()\n",
    "        w3.grad.zero_()\n",
    "        w4.grad.zero_()\n",
    "\n",
    "    if epoch == 0 or epoch % 1000 == 999:\n",
    "        print(f\"Epoch {epoch + 1}, Loss: {loss.item()}\")\n",
    "\n",
    "print(f\"weighting: w1 = {w1.item()}, w2 = {w2.item()}, w3 = {w3.item()}, w4 = {w4.item()}\")"
   ]
  },
  {
   "cell_type": "markdown",
   "id": "82c615f7-4be6-49c5-b5f2-c086803783b0",
   "metadata": {},
   "source": [
    "# Linear Regression"
   ]
  },
  {
   "cell_type": "markdown",
   "id": "3d55afeb-d0d4-4bab-b1e9-35ea226a10ea",
   "metadata": {},
   "source": [
    "## Example"
   ]
  },
  {
   "cell_type": "code",
   "execution_count": 4,
   "id": "a692c2bb-abda-40ec-b19c-ba8c418f506d",
   "metadata": {},
   "outputs": [
    {
     "name": "stdout",
     "output_type": "stream",
     "text": [
      "Epoch 1, Loss: 4.415518760681152\n",
      "Epoch 10, Loss: 0.3708271384239197\n",
      "Epoch 20, Loss: 0.34528693556785583\n",
      "Epoch 30, Loss: 0.3440459966659546\n",
      "Epoch 40, Loss: 0.34315985441207886\n",
      "Epoch 50, Loss: 0.34248363971710205\n",
      "Epoch 60, Loss: 0.34196746349334717\n",
      "Epoch 70, Loss: 0.3415733575820923\n",
      "Epoch 80, Loss: 0.3412725627422333\n",
      "Epoch 90, Loss: 0.3410429358482361\n",
      "Epoch 100, Loss: 0.34086766839027405\n",
      "Trained weights: w = 0.08081420511007309, b = 1.923866629600525\n"
     ]
    },
    {
     "data": {
      "image/png": "[encoded data removed]",
      "text/plain": [
       "<Figure size 640x480 with 1 Axes>"
      ]
     },
     "metadata": {},
     "output_type": "display_data"
    },
    {
     "data": {
      "image/png": "[encoded data removed]",
      "text/plain": [
       "<Figure size 640x480 with 1 Axes>"
      ]
     },
     "metadata": {},
     "output_type": "display_data"
    }
   ],
   "source": [
    "import torch\n",
    "import numpy as np\n",
    "import matplotlib.pyplot as plt\n",
    "\n",
    "# generate data randomly\n",
    "np.random.seed(0)\n",
    "X = np.random.rand(100, 1)\n",
    "y = 2 * X + 1 + np.random.randn(100, 1) * 0.1\n",
    "\n",
    "# convert data into tesnsors\n",
    "X_tensor = torch.tensor(X, dtype = torch.float32)\n",
    "y_tensor = torch.tensor(y, dtype = torch.float32)\n",
    "\n",
    "# initialize weights\n",
    "w = torch.randn(1, requires_grad = True)\n",
    "b = torch.randn(1, requires_grad = True)\n",
    "\n",
    "# set learning rate and number of epochs\n",
    "learning_rate = 0.1\n",
    "epochs = 100\n",
    "losses = []\n",
    "\n",
    "# train\n",
    "for epoch in range(epochs):\n",
    "    # predict\n",
    "    y_pred = torch.matmul(X_tensor, w) + b\n",
    "\n",
    "    # calculate loss (MSE)\n",
    "    loss = torch.mean((y_pred - y_tensor)**2)\n",
    "\n",
    "    # backpropagation\n",
    "    loss.backward()\n",
    "    losses.append(loss.item())\n",
    "\n",
    "    # update the weights\n",
    "    with torch.no_grad():\n",
    "        w -= learning_rate * w.grad\n",
    "        b -= learning_rate * b.grad\n",
    "\n",
    "        # return the gardients into zero\n",
    "        w.grad.zero_()\n",
    "        b.grad.zero_()\n",
    "\n",
    "    if epoch == 0 or epoch % 10 == 9:\n",
    "        print(f\"Epoch {epoch + 1}, Loss: {loss.item()}\")\n",
    "\n",
    "print(f\"Trained weights: w = {w.item()}, b = {b.item()}\")\n",
    "\n",
    "# plot the result\n",
    "plt.scatter(X, y, label = \"Original data\")\n",
    "plt.plot(X, w.detach().numpy() * X + b.detach().numpy(), color = \"red\", label = \"Fitted line\")\n",
    "plt.xlabel(\"X\")\n",
    "plt.ylabel(\"y\")\n",
    "plt.title(\"Linear Regression\")\n",
    "plt.legend()\n",
    "plt.show()\n",
    "\n",
    "plt.plot(losses)\n",
    "plt.xlabel(\"epoch\")\n",
    "plt.ylabel(\"loss\")\n",
    "plt.show()"
   ]
  },
  {
   "cell_type": "markdown",
   "id": "7b6ea27f-2c61-4f20-a536-b8587ba5cbf7",
   "metadata": {},
   "source": [
    "## Practice"
   ]
  },
  {
   "cell_type": "code",
   "execution_count": 5,
   "id": "290524d8-207f-4bf8-aed8-e4ba375076de",
   "metadata": {},
   "outputs": [
    {
     "name": "stdout",
     "output_type": "stream",
     "text": [
      "['\\ufeff年度', '風力(萬瓩)', '太陽電(萬瓩)', '其他(含水力)(萬瓩)', '總計(萬瓩)']\n",
      "Epoch 1, Loss: 612099.125\n",
      "Epoch 2, Loss: 610289.125\n",
      "Epoch 3, Loss: 608496.25\n",
      "Epoch 4, Loss: 606720.375\n",
      "Epoch 5, Loss: 604961.25\n",
      "Epoch 6, Loss: 603218.6875\n",
      "Epoch 7, Loss: 601492.5625\n",
      "Epoch 8, Loss: 599782.5625\n",
      "Epoch 9, Loss: 598088.625\n",
      "Epoch 10, Loss: 596410.75\n",
      "Epoch 20, Loss: 580468.3125\n",
      "Epoch 30, Loss: 565939.125\n",
      "Epoch 40, Loss: 552679.5\n",
      "Epoch 50, Loss: 540560.625\n",
      "Epoch 60, Loss: 529466.625\n",
      "Epoch 70, Loss: 519293.46875\n",
      "Epoch 80, Loss: 509947.875\n",
      "Epoch 90, Loss: 501345.875\n",
      "Epoch 100, Loss: 493412.21875\n",
      "Trained weights: w1 = -0.47534555196762085, w2 = 1.302370309829712, w3 = 0.9568878412246704, w4 = 1.0675451755523682\n"
     ]
    }
   ],
   "source": [
    "import torch\n",
    "import csv\n",
    "import numpy as np\n",
    "import matplotlib.pyplot as plt\n",
    "\n",
    "# import data\n",
    "def remove_comma(n):\n",
    "    while \",\" in n:\n",
    "        n = n.replace(\",\", \"\")\n",
    "\n",
    "    return float(n)\n",
    "\n",
    "# import data\n",
    "y, x1, x2, x3 = [], [], [], []\n",
    "with open(\"data.csv\", encoding = \"utf-8\") as f:\n",
    "    reader = list(csv.reader(f))\n",
    "    print(reader[0])\n",
    "\n",
    "    for row in reader[1: ]:\n",
    "        y.append([remove_comma(row[4])])\n",
    "        x1.append([remove_comma(row[3])])\n",
    "        x2.append([remove_comma(row[2])])\n",
    "        x3.append([remove_comma(row[1])])\n",
    "\n",
    "# convert data into tensor\n",
    "y = torch.tensor(y, dtype = torch.float32)\n",
    "x1 = torch.tensor(x1, dtype = torch.float32)\n",
    "x2 = torch.tensor(x2, dtype = torch.float32)\n",
    "x3 = torch.tensor(x3, dtype = torch.float32)\n",
    "\n",
    "# initialize the weights\n",
    "w1 = torch.randn(1, requires_grad = True)\n",
    "w2 = torch.randn(1, requires_grad = True)\n",
    "w3 = torch.randn(1, requires_grad = True)\n",
    "w4 = torch.randn(1, requires_grad = True)\n",
    "\n",
    "# set learning rate and number of epochs\n",
    "learning_rate = 1e-8\n",
    "epochs = 100\n",
    "losses = []\n",
    "\n",
    "# train\n",
    "for epoch in range(epochs):\n",
    "    y_pred = torch.matmul(x1, w1) + torch.matmul(x2, w2) + torch.matmul(x3, w3) + w4\n",
    "    loss = torch.mean((y_pred - y)**2)\n",
    "\n",
    "    loss.backward()\n",
    "    losses.append(loss.item())\n",
    "\n",
    "    with torch.no_grad():\n",
    "        w1 -= learning_rate * w1.grad\n",
    "        w2 -= learning_rate * w2.grad\n",
    "        w3 -= learning_rate * w2.grad\n",
    "        w4 -= learning_rate * w2.grad\n",
    "        \n",
    "        w1.grad.zero_()\n",
    "        w2.grad.zero_()\n",
    "        w3.grad.zero_()\n",
    "        w4.grad.zero_()\n",
    "\n",
    "    if epoch in range(10) or epoch % 10 == 9:\n",
    "        print(f\"Epoch {epoch + 1}, Loss: {loss.item()}\")\n",
    "\n",
    "print(f\"Trained weights: w1 = {w1.item()}, w2 = {w2.item()}, w3 = {w3.item()}, w4 = {w4.item()}\")\n",
    "\n",
    "# plot the result\n",
    "# plt.scatter(X, y, label = \"Original data\")\n",
    "# plt.plot(X, w.detach().numpy() * X + b.detach().numpy(), color = \"red\", label = \"Fitted line\")\n",
    "# plt.xlabel(\"X\")\n",
    "# plt.ylabel(\"y\")\n",
    "# plt.title(\"Linear Regression\")\n",
    "# plt.legend()\n",
    "# plt.show()\n",
    "\n",
    "# plt.plot(losses)\n",
    "# plt.xlabel(\"epoch\")\n",
    "# plt.ylabel(\"loss\")\n",
    "# plt.show()"
   ]
  }
 ],
 "metadata": {
  "kernelspec": {
   "display_name": "Python 3 (ipykernel)",
   "language": "python",
   "name": "python3"
  },
  "language_info": {
   "codemirror_mode": {
    "name": "ipython",
    "version": 3
   },
   "file_extension": ".py",
   "mimetype": "text/x-python",
   "name": "python",
   "nbconvert_exporter": "python",
   "pygments_lexer": "ipython3",
   "version": "3.9.18"
  }
 },
 "nbformat": 4,
 "nbformat_minor": 5
}
