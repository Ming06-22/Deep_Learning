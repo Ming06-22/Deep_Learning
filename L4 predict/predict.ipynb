{
 "cells": [
  {
   "cell_type": "code",
   "execution_count": 1,
   "id": "4860d337",
   "metadata": {
    "colab": {
     "base_uri": "https://localhost:8080/"
    },
    "id": "4860d337",
    "outputId": "9ebc751a-ed3c-42d0-ae1b-243731dd6357"
   },
   "outputs": [
    {
     "data": {
      "text/plain": [
       "<torch._C.Generator at 0x1257b2650>"
      ]
     },
     "execution_count": 1,
     "metadata": {},
     "output_type": "execute_result"
    }
   ],
   "source": [
    "import pandas as pd\n",
    "from sklearn.model_selection import train_test_split\n",
    "import torch\n",
    "import torch.nn as nn\n",
    "\n",
    "torch.manual_seed(0)"
   ]
  },
  {
   "cell_type": "code",
   "execution_count": 2,
   "id": "024e70d5",
   "metadata": {
    "colab": {
     "base_uri": "https://localhost:8080/"
    },
    "id": "024e70d5",
    "outputId": "1d801b86-9e23-4611-c1be-44eac7e12098"
   },
   "outputs": [
    {
     "name": "stdout",
     "output_type": "stream",
     "text": [
      "     0         1         2         3         4         5         6         7   \\\n",
      "0  2001  49.94357  21.47114  73.07750   8.74861 -17.40628 -13.09905 -25.01202   \n",
      "1  2001  48.73215  18.42930  70.32679  12.94636 -10.32437 -24.83777   8.76630   \n",
      "2  2001  50.95714  31.85602  55.81851  13.41693  -6.57898 -18.54940  -3.27872   \n",
      "3  2001  48.24750  -1.89837  36.29772   2.58776   0.97170 -26.21683   5.05097   \n",
      "4  2001  50.97020  42.20998  67.09964   8.46791 -15.85279 -16.81409 -12.48207   \n",
      "\n",
      "         8         9   ...        81         82        83        84        85  \\\n",
      "0 -12.23257   7.83089  ...  13.01620  -54.40548  58.99367  15.37344   1.11144   \n",
      "1  -0.92019  18.76548  ...   5.66812  -19.68073  33.04964  42.87836  -9.90378   \n",
      "2  -2.35035  16.07017  ...   3.03800   26.05866 -50.92779  10.93792  -0.07568   \n",
      "3 -10.34124   3.55005  ...  34.57337 -171.70734 -16.96705 -46.67617 -12.51516   \n",
      "4  -9.37636  12.63699  ...   9.92661  -55.95724  64.92712 -17.72522  -1.49237   \n",
      "\n",
      "         86         87        88         89        90  \n",
      "0 -23.08793   68.40795  -1.82223  -27.46348   2.26327  \n",
      "1 -32.22788   70.49388  12.04941   58.43453  26.92061  \n",
      "2  43.20130 -115.00698  -0.05859   39.67068  -0.66345  \n",
      "3  82.58061  -72.08993   9.90558  199.62971  18.85382  \n",
      "4  -7.50035   51.76631   7.88713   55.66926  28.74903  \n",
      "\n",
      "[5 rows x 91 columns]\n",
      "(50000, 91)\n"
     ]
    }
   ],
   "source": [
    "data = pd.read_csv(\"YearPredictionMSD.csv\", nrows = 50000, header = None)\n",
    "print(data.head())\n",
    "print(data.shape)"
   ]
  },
  {
   "cell_type": "code",
   "execution_count": 3,
   "id": "d4f34ee0",
   "metadata": {
    "colab": {
     "base_uri": "https://localhost:8080/"
    },
    "id": "d4f34ee0",
    "outputId": "572af90c-2072-4fac-a30a-dc04a90adf9d"
   },
   "outputs": [
    {
     "name": "stdout",
     "output_type": "stream",
     "text": [
      "[]\n"
     ]
    }
   ],
   "source": [
    "cols = data.columns  # data數據集的所有行數\n",
    "num_cols = data._get_numeric_data().columns  # data數據集中所有為數值型態的行數\n",
    "print(list(set(cols) - set(num_cols)))"
   ]
  },
  {
   "cell_type": "code",
   "execution_count": 4,
   "id": "eff92c1a",
   "metadata": {
    "colab": {
     "base_uri": "https://localhost:8080/"
    },
    "id": "eff92c1a",
    "outputId": "107bc1f6-65a3-47c4-c7fc-adbd1e47ecc6"
   },
   "outputs": [
    {
     "name": "stdout",
     "output_type": "stream",
     "text": [
      "0\n"
     ]
    }
   ],
   "source": [
    "print(data.isnull().sum().sum())"
   ]
  },
  {
   "cell_type": "code",
   "execution_count": 5,
   "id": "d1758256",
   "metadata": {
    "colab": {
     "base_uri": "https://localhost:8080/"
    },
    "id": "d1758256",
    "outputId": "e601418d-bf76-46ae-afbe-eb1641b78828"
   },
   "outputs": [
    {
     "name": "stdout",
     "output_type": "stream",
     "text": [
      "[]\n"
     ]
    }
   ],
   "source": [
    "outliers = []\n",
    "for i in range(data.shape[1]):\n",
    "    min_t = data[data.columns[i]].mean() - (3 * data[data.columns[i]].std())\n",
    "    max_t = data[data.columns[i]].mean() + (3 * data[data.columns[i]].std())\n",
    "    count = 0\n",
    "    for j in data[data.columns[i]]:\n",
    "        if j < min_t or j > max_t:\n",
    "            count += 1\n",
    "    percentage = count / data.shape[0]\n",
    "    #print(i, percentage)\n",
    "    if percentage > 0.05:\n",
    "        outliers.append(i)\n",
    "\n",
    "print(outliers)"
   ]
  },
  {
   "cell_type": "code",
   "execution_count": 6,
   "id": "73875952",
   "metadata": {
    "id": "73875952"
   },
   "outputs": [],
   "source": [
    "x = data.iloc[:,2:]\n",
    "y = data.iloc[:,0]"
   ]
  },
  {
   "cell_type": "code",
   "execution_count": 7,
   "id": "14638ff0",
   "metadata": {
    "colab": {
     "base_uri": "https://localhost:8080/"
    },
    "id": "14638ff0",
    "outputId": "83b1fed8-5f2c-469b-d25b-fc1cc0cedcc6"
   },
   "outputs": [
    {
     "name": "stdout",
     "output_type": "stream",
     "text": [
      "         2         3         4         5         6         7         8   \\\n",
      "0  0.382437  1.841985  0.459652 -0.480074 -0.282606 -1.590785 -1.300854   \n",
      "1  0.321953  1.763666  0.717085 -0.165507 -1.188896  0.777905  0.122576   \n",
      "2  0.588929  1.350579  0.745944  0.000857 -0.703401 -0.066747 -0.057380   \n",
      "3 -0.082240  0.794774  0.081829  0.336246 -1.295366  0.517369 -1.062869   \n",
      "4  0.794806  1.671781  0.442438 -0.411071 -0.569426 -0.712128 -0.941459   \n",
      "\n",
      "         9         10        11  ...        81        82        83        84  \\\n",
      "0  0.378336 -0.683719  0.791667  ... -0.086005  0.099339  0.148291 -0.255625   \n",
      "1  1.420531  0.401198  0.541262  ... -0.316635  0.301448 -0.063611  0.031855   \n",
      "2  1.163637 -0.090081  0.658570  ... -0.399185  0.567666 -0.749508 -0.301984   \n",
      "3 -0.029679 -1.282306  1.543411  ...  0.590596 -0.583396 -0.472129 -0.904164   \n",
      "4  0.836414 -0.160630  0.402680  ... -0.182976  0.090307  0.196753 -0.601570   \n",
      "\n",
      "         85        86        87        88        89        90  \n",
      "0  0.040944 -0.362616  0.524542 -0.467668 -0.247579  0.036872  \n",
      "1 -0.655124 -0.443921  0.536517  0.573191  0.209887  1.155171  \n",
      "2 -0.034072  0.227059 -0.528413 -0.335333  0.109957 -0.095865  \n",
      "3 -0.820141  0.577357 -0.282033  0.412329  0.961849  0.789313  \n",
      "4 -0.123595 -0.223957  0.429005  0.260874  0.195160  1.238096  \n",
      "\n",
      "[5 rows x 89 columns]\n"
     ]
    }
   ],
   "source": [
    "x = (x - x.mean()) / x.std()\n",
    "print(x.head())"
   ]
  },
  {
   "cell_type": "code",
   "execution_count": 8,
   "id": "a7998a41",
   "metadata": {
    "colab": {
     "base_uri": "https://localhost:8080/"
    },
    "id": "a7998a41",
    "outputId": "3b2fbd99-58dd-4551-eeb0-700b5d973e87"
   },
   "outputs": [
    {
     "name": "stdout",
     "output_type": "stream",
     "text": [
      "(26250, 89) (8750, 89) (15000, 89)\n"
     ]
    }
   ],
   "source": [
    "# 拆分數據成 2 個子集，x_new: x_test = 70: 30\n",
    "x_new, x_test, y_new, y_test = train_test_split(x, y, test_size = 0.3, random_state = 0)\n",
    "\n",
    "# 再拆分數據集 x_new 成 2 個子集, x_train: x_dev = 75: 25\n",
    "x_train, x_dev, y_train, y_dev = train_test_split(x_new, y_new, test_size = 0.25, random_state = 0)\n",
    "\n",
    "print(x_train.shape, x_dev.shape, x_test.shape)"
   ]
  },
  {
   "cell_type": "code",
   "execution_count": 9,
   "id": "028e7c11",
   "metadata": {
    "colab": {
     "base_uri": "https://localhost:8080/"
    },
    "id": "028e7c11",
    "outputId": "0cd9cb2f-5302-4bfc-c595-0ef93f759aea"
   },
   "outputs": [
    {
     "name": "stdout",
     "output_type": "stream",
     "text": [
      "torch.Size([26250, 89]) torch.Size([26250, 1])\n"
     ]
    }
   ],
   "source": [
    "x_train_torch = torch.tensor(x_train.values).float()\n",
    "y_train_torch = torch.tensor(y_train.values).float().unsqueeze(1)\n",
    "x_dev_torch = torch.tensor(x_dev.values).float()\n",
    "y_dev_torch = torch.tensor(y_dev.values).float().unsqueeze(1)\n",
    "x_test_torch = torch.tensor(x_test.values).float()\n",
    "y_test_torch = torch.tensor(y_test.values).float().unsqueeze(1)\n",
    "\n",
    "print(x_train_torch.shape, y_train_torch.shape)"
   ]
  },
  {
   "cell_type": "code",
   "execution_count": 10,
   "id": "1e7e340a",
   "metadata": {
    "id": "1e7e340a"
   },
   "outputs": [],
   "source": [
    "model = nn.Sequential(\n",
    "    nn.Linear(x_train.shape[1], 200),\n",
    "    nn.ReLU(),\n",
    "    nn.Linear(200, 50),\n",
    "    nn.ReLU(),\n",
    "    nn.Linear(50, 25),\n",
    "    nn.ReLU(),\n",
    "    nn.Linear(25, 1)\n",
    ")"
   ]
  },
  {
   "cell_type": "code",
   "execution_count": 11,
   "id": "98af86c5",
   "metadata": {
    "colab": {
     "base_uri": "https://localhost:8080/",
     "height": 53
    },
    "id": "98af86c5",
    "outputId": "3b5d04cf-dd2e-46b9-f85b-9e81a2fbaef1"
   },
   "outputs": [],
   "source": [
    "device = \"mps\"\n",
    "model = model.to(device)\n",
    "x_train_torch = x_train_torch.to(device)\n",
    "y_train_torch = y_train_torch.to(device)\n",
    "x_dev_torch = x_dev_torch.to(device)\n",
    "y_dev_torch = y_dev_torch.to(device)"
   ]
  },
  {
   "cell_type": "code",
   "execution_count": 12,
   "id": "4fb5cd12",
   "metadata": {
    "id": "4fb5cd12"
   },
   "outputs": [],
   "source": [
    "myloss = torch.nn.MSELoss()\n",
    "optimizer = torch.optim.Adam(model.parameters(), lr = 1e-3)"
   ]
  },
  {
   "cell_type": "code",
   "execution_count": 13,
   "id": "430691f2",
   "metadata": {
    "colab": {
     "base_uri": "https://localhost:8080/"
    },
    "id": "430691f2",
    "outputId": "e29e89a0-7cab-457d-9f51-851f893913df"
   },
   "outputs": [
    {
     "name": "stdout",
     "output_type": "stream",
     "text": [
      "epoch = 0, train_loss: 3993293.750, valid_loss: 3993412.250\n",
      "epoch = 400, train_loss: 169243.766, valid_loss: 181055.047\n",
      "epoch = 800, train_loss: 13761.353, valid_loss: 22696.143\n",
      "epoch = 1200, train_loss: 1468.064, valid_loss: 4172.907\n",
      "epoch = 1600, train_loss: 496.691, valid_loss: 1878.264\n",
      "epoch = 2000, train_loss: 245.756, valid_loss: 1048.438\n",
      "epoch = 2400, train_loss: 145.169, valid_loss: 644.123\n",
      "epoch = 2800, train_loss: 104.798, valid_loss: 464.467\n",
      "epoch = 3200, train_loss: 107.529, valid_loss: 429.766\n",
      "epoch = 3600, train_loss: 86.021, valid_loss: 369.196\n",
      "epoch = 4000, train_loss: 82.220, valid_loss: 348.441\n",
      "epoch = 4400, train_loss: 79.452, valid_loss: 333.373\n"
     ]
    }
   ],
   "source": [
    "epochs = 8001\n",
    "for epoch in range(epochs):\n",
    "    model.train()\n",
    "    y_pred = model(x_train_torch)\n",
    "    train_loss = myloss(y_pred, y_train_torch)\n",
    "    optimizer.zero_grad()\n",
    "    train_loss.backward()\n",
    "    optimizer.step()\n",
    "\n",
    "    if epoch % 400 == 0:\n",
    "        with torch.no_grad():\n",
    "            model.eval()\n",
    "            y_pred2 = model(x_dev_torch)\n",
    "            valid_loss = myloss(y_pred2, y_dev_torch)\n",
    "\n",
    "        print(f\"epoch = {epoch}, train_loss: {train_loss.item():.3f}, valid_loss: {valid_loss.item():.3f}\")\n",
    "\n",
    "        if train_loss.item() < 81:\n",
    "            break\n"
   ]
  },
  {
   "cell_type": "code",
   "execution_count": 14,
   "id": "9b747b74",
   "metadata": {
    "colab": {
     "base_uri": "https://localhost:8080/"
    },
    "id": "9b747b74",
    "outputId": "91ecfd0e-7867-4e1e-caf2-20b5b3bfb58e"
   },
   "outputs": [
    {
     "name": "stdout",
     "output_type": "stream",
     "text": [
      "test_loss: 486.630\n"
     ]
    }
   ],
   "source": [
    "model = model.to(\"cpu\")\n",
    "pred = model(x_test_torch)\n",
    "test_loss = myloss(pred,y_test_torch)\n",
    "print(f\"test_loss: {test_loss.item():.3f}\")"
   ]
  },
  {
   "cell_type": "code",
   "execution_count": 15,
   "id": "872f21af",
   "metadata": {
    "colab": {
     "base_uri": "https://localhost:8080/"
    },
    "id": "872f21af",
    "outputId": "fb54d45e-1509-4897-c31e-570aec9ffb79"
   },
   "outputs": [
    {
     "name": "stdout",
     "output_type": "stream",
     "text": [
      "truth: 2006, pred: 2000\n",
      "truth: 2003, pred: 1998\n",
      "truth: 2002, pred: 1998\n",
      "truth: 2005, pred: 2149\n",
      "truth: 2007, pred: 2000\n",
      "truth: 2008, pred: 1994\n",
      "truth: 2001, pred: 2007\n",
      "truth: 2006, pred: 1998\n",
      "truth: 2008, pred: 1999\n",
      "truth: 1966, pred: 1992\n"
     ]
    }
   ],
   "source": [
    "for i in range(100,110):\n",
    "    print(f\"truth: {y_test_torch[i].item():.0f}, pred: {pred[i].item():.0f}\")"
   ]
  },
  {
   "cell_type": "code",
   "execution_count": 16,
   "id": "6414e20e",
   "metadata": {
    "id": "6414e20e"
   },
   "outputs": [
    {
     "name": "stdout",
     "output_type": "stream",
     "text": [
      "Accuracy: 0.54\n"
     ]
    }
   ],
   "source": [
    "def accuracy():\n",
    "    temp = 0\n",
    "    for i in range(len(pred)):\n",
    "        truth_value = y_test_torch[i].item()\n",
    "        if truth_value - 2 <= pred[i].item() <= truth_value + 2:\n",
    "            temp += 1\n",
    "            \n",
    "    print(f\"Accuracy: {round(temp / 5000, 2)}\")\n",
    "\n",
    "accuracy()"
   ]
  }
 ],
 "metadata": {
  "colab": {
   "provenance": []
  },
  "kernelspec": {
   "display_name": "Python 3 (ipykernel)",
   "language": "python",
   "name": "python3"
  },
  "language_info": {
   "codemirror_mode": {
    "name": "ipython",
    "version": 3
   },
   "file_extension": ".py",
   "mimetype": "text/x-python",
   "name": "python",
   "nbconvert_exporter": "python",
   "pygments_lexer": "ipython3",
   "version": "3.9.13"
  }
 },
 "nbformat": 4,
 "nbformat_minor": 5
}
