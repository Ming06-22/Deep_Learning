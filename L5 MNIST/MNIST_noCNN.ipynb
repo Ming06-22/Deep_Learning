{
 "cells": [
  {
   "cell_type": "code",
   "execution_count": 1,
   "id": "75d1074e",
   "metadata": {
    "id": "75d1074e"
   },
   "outputs": [],
   "source": [
    "import torch\n",
    "import torch.nn as nn\n",
    "import torch.nn.functional as F\n",
    "import torch.optim as optim\n",
    "from torch.utils.data import DataLoader\n",
    "from torchvision import datasets, transforms\n",
    "import matplotlib.pyplot as plt"
   ]
  },
  {
   "cell_type": "code",
   "execution_count": 2,
   "id": "4ecf2022",
   "metadata": {
    "colab": {
     "base_uri": "https://localhost:8080/"
    },
    "id": "4ecf2022",
    "outputId": "1cc6bdb6-8b63-41f4-d4ba-b98f3fa8ea70"
   },
   "outputs": [
    {
     "data": {
      "text/plain": [
       "<torch._C.Generator at 0x109620630>"
      ]
     },
     "execution_count": 2,
     "metadata": {},
     "output_type": "execute_result"
    }
   ],
   "source": [
    "torch.manual_seed(0)"
   ]
  },
  {
   "cell_type": "code",
   "execution_count": 3,
   "id": "61d4df7c",
   "metadata": {
    "id": "61d4df7c"
   },
   "outputs": [],
   "source": [
    "transform=transforms.Compose([\n",
    "    transforms.ToTensor(),\n",
    "])"
   ]
  },
  {
   "cell_type": "code",
   "execution_count": 4,
   "id": "422d3f58",
   "metadata": {
    "colab": {
     "base_uri": "https://localhost:8080/"
    },
    "id": "422d3f58",
    "outputId": "e92bbd30-f1ff-43ea-ce86-5f3d8a5baf47"
   },
   "outputs": [],
   "source": [
    "train_data=datasets.MNIST('data/',train=True, download=True, transform=transform)\n",
    "test_data=datasets.MNIST('data/', train=False, transform=transform)"
   ]
  },
  {
   "cell_type": "code",
   "execution_count": 5,
   "id": "901aac1c",
   "metadata": {
    "colab": {
     "base_uri": "https://localhost:8080/"
    },
    "id": "901aac1c",
    "outputId": "2b39c922-d784-41d2-e40c-7ae35830fa83"
   },
   "outputs": [
    {
     "name": "stdout",
     "output_type": "stream",
     "text": [
      "torch.Size([60000, 28, 28]) torch.Size([60000]) torch.Size([10000, 28, 28]) torch.Size([10000])\n"
     ]
    }
   ],
   "source": [
    "train_x=train_data.data\n",
    "train_y=train_data.targets\n",
    "test_x=test_data.data\n",
    "test_y=test_data.targets\n",
    "print(train_x.shape, train_y.shape, test_x.shape, test_y.shape)"
   ]
  },
  {
   "cell_type": "code",
   "execution_count": 6,
   "id": "f2f87507",
   "metadata": {
    "colab": {
     "base_uri": "https://localhost:8080/"
    },
    "id": "f2f87507",
    "outputId": "305ed866-923f-40fb-f1c7-88df04cf8448"
   },
   "outputs": [
    {
     "name": "stdout",
     "output_type": "stream",
     "text": [
      "torch.Size([1, 28, 28])\n"
     ]
    }
   ],
   "source": [
    "img, label=train_data[0]\n",
    "print(img.shape)  # shape:(C,H,W)"
   ]
  },
  {
   "cell_type": "code",
   "execution_count": 7,
   "id": "d6b16d10",
   "metadata": {
    "colab": {
     "base_uri": "https://localhost:8080/"
    },
    "id": "d6b16d10",
    "outputId": "7a49fe3c-9c6f-4222-cc0b-bc49caa2b1d4"
   },
   "outputs": [
    {
     "name": "stdout",
     "output_type": "stream",
     "text": [
      "tensor(0.) tensor(1.)\n"
     ]
    }
   ],
   "source": [
    "print(img.min(), img.max())"
   ]
  },
  {
   "cell_type": "code",
   "execution_count": 8,
   "id": "7f195af1",
   "metadata": {
    "colab": {
     "base_uri": "https://localhost:8080/",
     "height": 448
    },
    "id": "7f195af1",
    "outputId": "2034929b-6df5-4390-ab95-1030a36176b1"
   },
   "outputs": [
    {
     "data": {
      "text/plain": [
       "<matplotlib.image.AxesImage at 0x1480a11c0>"
      ]
     },
     "execution_count": 8,
     "metadata": {},
     "output_type": "execute_result"
    },
    {
     "data": {
      "image/png": "[encoded data removed]",
      "text/plain": [
       "<Figure size 640x480 with 1 Axes>"
      ]
     },
     "metadata": {},
     "output_type": "display_data"
    }
   ],
   "source": [
    "img2=img.permute(1,2,0)  # shape:(H,W,C)\n",
    "plt.imshow(img2,cmap='gray')"
   ]
  },
  {
   "cell_type": "code",
   "execution_count": 9,
   "id": "e3be2aee",
   "metadata": {
    "colab": {
     "base_uri": "https://localhost:8080/"
    },
    "id": "e3be2aee",
    "outputId": "eab52081-d36e-4f23-e784-6c4d148f3027"
   },
   "outputs": [
    {
     "name": "stdout",
     "output_type": "stream",
     "text": [
      "5\n"
     ]
    }
   ],
   "source": [
    "print(label)"
   ]
  },
  {
   "cell_type": "code",
   "execution_count": 10,
   "id": "b48c18ab",
   "metadata": {
    "id": "b48c18ab"
   },
   "outputs": [],
   "source": [
    "train_dataloader=DataLoader(train_data, batch_size=32, shuffle=True)\n",
    "test_dataloader=DataLoader(test_data, batch_size=500, shuffle=False)"
   ]
  },
  {
   "cell_type": "code",
   "execution_count": 11,
   "id": "93efaf48",
   "metadata": {
    "id": "93efaf48"
   },
   "outputs": [],
   "source": [
    "class ConvNet(nn.Module):\n",
    "    def __init__(self):\n",
    "        super(ConvNet,self).__init__()\n",
    "#         self.cn1=nn.Conv2d(1, 16, 3, 1)\n",
    "#         self.cn2=nn.Conv2d(16, 32, 3, 1)\n",
    "#         self.dp1=nn.Dropout(0.10)\n",
    "#         self.dp2=nn.Dropout(0.25)\n",
    "        self.fc1=nn.Linear(196, 64)\n",
    "        self.fc2=nn.Linear(64,10)\n",
    "\n",
    "    def forward(self,x):\n",
    "#         x=self.cn1(x)\n",
    "#         x=F.relu(x)\n",
    "#         x=self.cn2(x)\n",
    "#         x=F.relu(x)\n",
    "        x=F.max_pool2d(x,2)\n",
    "        x=torch.flatten(x,1)\n",
    "        x=self.fc1(x)\n",
    "#         x=self.dp1(x)\n",
    "        x=F.relu(x)\n",
    "        x=self.fc2(x)\n",
    "#         x=self.dp2(x)\n",
    "        op=F.log_softmax(x,dim=1)\n",
    "        return op"
   ]
  },
  {
   "cell_type": "code",
   "execution_count": 12,
   "id": "7f32d1ea",
   "metadata": {
    "id": "7f32d1ea"
   },
   "outputs": [],
   "source": [
    "#device=torch.device('cuda:0')\n",
    "device=torch.device(\"cuda\" if torch.cuda.is_available() else \"cpu\")\n",
    "model=ConvNet().to(device)"
   ]
  },
  {
   "cell_type": "code",
   "execution_count": 13,
   "id": "9489aca9",
   "metadata": {
    "id": "9489aca9"
   },
   "outputs": [],
   "source": [
    "myloss=nn.NLLLoss()\n",
    "myoptim=optim.Adadelta(model.parameters(),lr=0.5)"
   ]
  },
  {
   "cell_type": "code",
   "execution_count": 14,
   "id": "3bc79c2b",
   "metadata": {
    "id": "3bc79c2b"
   },
   "outputs": [],
   "source": [
    "def train(model, device, train_dataloader, myloss, myoptim, epoch):\n",
    "    model.train()\n",
    "\n",
    "    for b_i, (X, y) in enumerate(train_dataloader):\n",
    "        X, y = X.to(device), y.to(device)\n",
    "        pred_prob=model(X)\n",
    "        loss=myloss(pred_prob, y)\n",
    "\n",
    "        myoptim.zero_grad()\n",
    "        loss.backward()\n",
    "        myoptim.step()\n",
    "\n",
    "        if b_i % 200 ==0:\n",
    "            num1=b_i*len(X)\n",
    "            num2=len(train_dataloader.dataset)\n",
    "            num3=100*b_i/len(train_dataloader)\n",
    "            print('epoch:{} [{}/{} ({:.0f}%)]\\t training loss: {:.6f}'.format(\n",
    "            epoch, num1, num2, num3,loss.item()))"
   ]
  },
  {
   "cell_type": "code",
   "execution_count": 15,
   "id": "92b81762",
   "metadata": {
    "colab": {
     "base_uri": "https://localhost:8080/"
    },
    "id": "92b81762",
    "outputId": "fd7d82c7-f554-41af-988a-c8f0c5ac7dd4"
   },
   "outputs": [
    {
     "name": "stdout",
     "output_type": "stream",
     "text": [
      "epoch:0 [0/60000 (0%)]\t training loss: 2.309243\n",
      "epoch:0 [6400/60000 (11%)]\t training loss: 0.473541\n",
      "epoch:0 [12800/60000 (21%)]\t training loss: 0.266725\n",
      "epoch:0 [19200/60000 (32%)]\t training loss: 0.163164\n",
      "epoch:0 [25600/60000 (43%)]\t training loss: 0.230936\n",
      "epoch:0 [32000/60000 (53%)]\t training loss: 0.346424\n",
      "epoch:0 [38400/60000 (64%)]\t training loss: 0.237637\n",
      "epoch:0 [44800/60000 (75%)]\t training loss: 0.224784\n",
      "epoch:0 [51200/60000 (85%)]\t training loss: 0.561060\n",
      "epoch:0 [57600/60000 (96%)]\t training loss: 0.120448\n",
      "epoch:1 [0/60000 (0%)]\t training loss: 0.176041\n",
      "epoch:1 [6400/60000 (11%)]\t training loss: 0.594809\n",
      "epoch:1 [12800/60000 (21%)]\t training loss: 0.196532\n",
      "epoch:1 [19200/60000 (32%)]\t training loss: 0.223856\n",
      "epoch:1 [25600/60000 (43%)]\t training loss: 0.075053\n",
      "epoch:1 [32000/60000 (53%)]\t training loss: 0.125967\n",
      "epoch:1 [38400/60000 (64%)]\t training loss: 0.222552\n",
      "epoch:1 [44800/60000 (75%)]\t training loss: 0.278825\n",
      "epoch:1 [51200/60000 (85%)]\t training loss: 0.094223\n",
      "epoch:1 [57600/60000 (96%)]\t training loss: 0.364324\n",
      "epoch:2 [0/60000 (0%)]\t training loss: 0.105122\n",
      "epoch:2 [6400/60000 (11%)]\t training loss: 0.235382\n",
      "epoch:2 [12800/60000 (21%)]\t training loss: 0.221039\n",
      "epoch:2 [19200/60000 (32%)]\t training loss: 0.145302\n",
      "epoch:2 [25600/60000 (43%)]\t training loss: 0.041610\n",
      "epoch:2 [32000/60000 (53%)]\t training loss: 0.220774\n",
      "epoch:2 [38400/60000 (64%)]\t training loss: 0.363764\n",
      "epoch:2 [44800/60000 (75%)]\t training loss: 0.120287\n",
      "epoch:2 [51200/60000 (85%)]\t training loss: 0.052728\n",
      "epoch:2 [57600/60000 (96%)]\t training loss: 0.296330\n"
     ]
    }
   ],
   "source": [
    "epochs=3\n",
    "for epoch in range(epochs):\n",
    "    train(model, device, train_dataloader, myloss, myoptim, epoch)"
   ]
  },
  {
   "cell_type": "code",
   "execution_count": 16,
   "id": "01a74a7f",
   "metadata": {
    "id": "01a74a7f"
   },
   "outputs": [],
   "source": [
    "def test(model,device,test_dataloader, myloss):\n",
    "    model.eval()\n",
    "    loss=0\n",
    "    success=0\n",
    "    with torch.no_grad():\n",
    "        for X, y in test_dataloader:\n",
    "            X, y = X.to(device), y.to(device)\n",
    "            pred_prob=model(X)\n",
    "            loss += myloss(pred_prob, y).item()\n",
    "\n",
    "            pred=pred_prob.argmax(dim=1, keepdim=True)\n",
    "            success += pred.eq(y.view_as(pred)).sum().item()\n",
    "\n",
    "            num1 = loss/len(test_dataloader)\n",
    "            num2=len(test_dataloader.dataset)\n",
    "            num3=100*success/len(test_dataloader.dataset)\n",
    "            print('Overall Loss: {:.4f}, Overall Accuracy: {}/{} ({:.2f}%)'.format(\n",
    "                    num1, success, num2, num3))"
   ]
  },
  {
   "cell_type": "code",
   "execution_count": 17,
   "id": "73db7dbd",
   "metadata": {
    "id": "73db7dbd"
   },
   "outputs": [],
   "source": [
    "torch.save(model.state_dict(),\"data/mnist_model.pt\")"
   ]
  },
  {
   "cell_type": "code",
   "execution_count": 18,
   "id": "b9119cd2",
   "metadata": {
    "id": "b9119cd2"
   },
   "outputs": [],
   "source": [
    "model2=ConvNet()\n",
    "model2.load_state_dict(torch.load(\"data/mnist_model.pt\"))\n",
    "model2=model2.to(device)"
   ]
  },
  {
   "cell_type": "code",
   "execution_count": 19,
   "id": "6f6c5cbc",
   "metadata": {
    "colab": {
     "base_uri": "https://localhost:8080/"
    },
    "id": "6f6c5cbc",
    "outputId": "56ff5463-a2f9-43f7-cad7-90c9c3c622c5"
   },
   "outputs": [
    {
     "name": "stdout",
     "output_type": "stream",
     "text": [
      "Overall Loss: 0.0070, Overall Accuracy: 478/10000 (4.78%)\n",
      "Overall Loss: 0.0160, Overall Accuracy: 948/10000 (9.48%)\n",
      "Overall Loss: 0.0290, Overall Accuracy: 1397/10000 (13.97%)\n",
      "Overall Loss: 0.0421, Overall Accuracy: 1860/10000 (18.60%)\n",
      "Overall Loss: 0.0565, Overall Accuracy: 2317/10000 (23.17%)\n",
      "Overall Loss: 0.0639, Overall Accuracy: 2793/10000 (27.93%)\n",
      "Overall Loss: 0.0729, Overall Accuracy: 3263/10000 (32.63%)\n",
      "Overall Loss: 0.0857, Overall Accuracy: 3731/10000 (37.31%)\n",
      "Overall Loss: 0.0966, Overall Accuracy: 4198/10000 (41.98%)\n",
      "Overall Loss: 0.1068, Overall Accuracy: 4665/10000 (46.65%)\n",
      "Overall Loss: 0.1108, Overall Accuracy: 5152/10000 (51.52%)\n",
      "Overall Loss: 0.1205, Overall Accuracy: 5630/10000 (56.30%)\n",
      "Overall Loss: 0.1272, Overall Accuracy: 6110/10000 (61.10%)\n",
      "Overall Loss: 0.1353, Overall Accuracy: 6585/10000 (65.85%)\n",
      "Overall Loss: 0.1396, Overall Accuracy: 7072/10000 (70.72%)\n",
      "Overall Loss: 0.1454, Overall Accuracy: 7554/10000 (75.54%)\n",
      "Overall Loss: 0.1513, Overall Accuracy: 8037/10000 (80.37%)\n",
      "Overall Loss: 0.1530, Overall Accuracy: 8532/10000 (85.32%)\n",
      "Overall Loss: 0.1583, Overall Accuracy: 9018/10000 (90.18%)\n",
      "Overall Loss: 0.1714, Overall Accuracy: 9479/10000 (94.79%)\n"
     ]
    }
   ],
   "source": [
    "test(model2,device,test_dataloader,myloss)"
   ]
  },
  {
   "cell_type": "code",
   "execution_count": 20,
   "id": "c7862f12",
   "metadata": {
    "colab": {
     "base_uri": "https://localhost:8080/"
    },
    "id": "c7862f12",
    "outputId": "21e5db29-bb4d-4ee6-ef3e-c56309e645e1"
   },
   "outputs": [
    {
     "name": "stdout",
     "output_type": "stream",
     "text": [
      "torch.Size([500, 1, 28, 28])\n"
     ]
    }
   ],
   "source": [
    "model2=model2.to(\"cpu\")\n",
    "sample_data,sample_targets=next(iter(test_dataloader))\n",
    "print(sample_data.shape)"
   ]
  },
  {
   "cell_type": "code",
   "execution_count": 21,
   "id": "54abefea",
   "metadata": {
    "colab": {
     "base_uri": "https://localhost:8080/"
    },
    "id": "54abefea",
    "outputId": "08450fc9-4071-4eac-8db4-da55a54ffb11"
   },
   "outputs": [
    {
     "name": "stdout",
     "output_type": "stream",
     "text": [
      "torch.Size([1, 28, 28])\n"
     ]
    }
   ],
   "source": [
    "print(sample_data[10].shape)"
   ]
  },
  {
   "cell_type": "code",
   "execution_count": 22,
   "id": "2f91d591",
   "metadata": {
    "colab": {
     "base_uri": "https://localhost:8080/",
     "height": 448
    },
    "id": "2f91d591",
    "outputId": "95336a3e-d65d-4cc9-f409-7d4385af9c7b"
   },
   "outputs": [
    {
     "data": {
      "text/plain": [
       "<matplotlib.image.AxesImage at 0x148521370>"
      ]
     },
     "execution_count": 22,
     "metadata": {},
     "output_type": "execute_result"
    },
    {
     "data": {
      "image/png": "[encoded data removed]",
      "text/plain": [
       "<Figure size 640x480 with 1 Axes>"
      ]
     },
     "metadata": {},
     "output_type": "display_data"
    }
   ],
   "source": [
    "plt.imshow(sample_data[10][0],cmap='gray')"
   ]
  },
  {
   "cell_type": "code",
   "execution_count": 23,
   "id": "c602d103",
   "metadata": {
    "colab": {
     "base_uri": "https://localhost:8080/"
    },
    "id": "c602d103",
    "outputId": "dfd16ae3-5bc7-494b-c6b3-902800ac2e6e"
   },
   "outputs": [
    {
     "name": "stdout",
     "output_type": "stream",
     "text": [
      "tensor(0)\n"
     ]
    }
   ],
   "source": [
    "pred_label=model2(sample_data).max(dim=1)[1][10]\n",
    "print(pred_label)"
   ]
  },
  {
   "cell_type": "code",
   "execution_count": 24,
   "id": "3b331590",
   "metadata": {
    "colab": {
     "base_uri": "https://localhost:8080/"
    },
    "id": "3b331590",
    "outputId": "d24d7548-c5bb-4b20-d04e-37979276b06c"
   },
   "outputs": [
    {
     "name": "stdout",
     "output_type": "stream",
     "text": [
      "Model prediction is : 0\n",
      "Ground truth is : 0\n"
     ]
    }
   ],
   "source": [
    "print(f\"Model prediction is : {pred_label}\")\n",
    "print(f\"Ground truth is : {sample_targets[10]}\")"
   ]
  },
  {
   "cell_type": "code",
   "execution_count": 25,
   "id": "b49f28da",
   "metadata": {
    "id": "b49f28da"
   },
   "outputs": [
    {
     "data": {
      "text/plain": [
       "0.956"
      ]
     },
     "execution_count": 25,
     "metadata": {},
     "output_type": "execute_result"
    }
   ],
   "source": [
    "def accuracy():\n",
    "    temp = 0\n",
    "    prediction = model2(sample_data).max(dim = 1)[1]\n",
    "    for i in range(len(prediction)):\n",
    "        if prediction[i] == sample_targets[i]:\n",
    "            temp += 1\n",
    "        \n",
    "    return temp / len(prediction)\n",
    "\n",
    "accuracy()"
   ]
  }
 ],
 "metadata": {
  "colab": {
   "provenance": []
  },
  "kernelspec": {
   "display_name": "Python 3 (ipykernel)",
   "language": "python",
   "name": "python3"
  },
  "language_info": {
   "codemirror_mode": {
    "name": "ipython",
    "version": 3
   },
   "file_extension": ".py",
   "mimetype": "text/x-python",
   "name": "python",
   "nbconvert_exporter": "python",
   "pygments_lexer": "ipython3",
   "version": "3.9.13"
  }
 },
 "nbformat": 4,
 "nbformat_minor": 5
}
